{
  "nbformat": 4,
  "nbformat_minor": 0,
  "metadata": {
    "colab": {
      "name": "PRIR-lab9.1.ipynb",
      "provenance": []
    },
    "kernelspec": {
      "name": "python3",
      "display_name": "Python 3"
    },
    "language_info": {
      "name": "python"
    },
    "accelerator": "GPU"
  },
  "cells": [
    {
      "cell_type": "markdown",
      "source": [
        "Instalacja środowiska"
      ],
      "metadata": {
        "id": "NtaT9uxociO-"
      }
    },
    {
      "cell_type": "code",
      "execution_count": null,
      "metadata": {
        "id": "sgeYjCyNcb8a"
      },
      "outputs": [],
      "source": [
        "!apt-get --purge remove cuda nvidia* libnvidia-*\n",
        "!dpkg -l | grep cuda- | awk '{print $2}' | xargs -n1 dpkg --purge\n",
        "!apt-get remove cuda-*\n",
        "!apt autoremove\n",
        "!apt-get update\n",
        "\n",
        "!wget https://developer.nvidia.com/compute/cuda/9.2/Prod/local_installers/cuda-repo-ubuntu1604-9-2-local_9.2.88-1_amd64 -O cuda-repo-ubuntu1604-9-2-local_9.2.88-1_amd64.deb\n",
        "!dpkg -i cuda-repo-ubuntu1604-9-2-local_9.2.88-1_amd64.deb\n",
        "!apt-key add /var/cuda-repo-9-2-local/7fa2af80.pub\n",
        "!apt-get update\n",
        "!apt-get install cuda-9.2\n",
        "\n",
        "!nvcc --version\n",
        "!pip install git+git://github.com/andreinechaev/nvcc4jupyter.git\n",
        "\n",
        "%load_ext nvcc_plugin"
      ]
    },
    {
      "cell_type": "code",
      "source": [
        "%%cuda --name Matrix.cu\n",
        "\n",
        "#include <cuda_runtime.h>\n",
        "#include <iostream>\n",
        "#include <ctime>\n",
        "using namespace std;\n",
        "#define checkCudaErrors(call)  do {   cudaError_t err = call;     if (err != cudaSuccess) {  printf(\"CUDA error at %s %d: %s\\n\", __FILE__, __LINE__, cudaGetErrorString(err));                        exit(EXIT_FAILURE);                                     }                                                         } while (0)\n",
        "\n",
        "__global__ void matmulDevice(int* A, int* B, int* C, int N)\n",
        "{\n",
        "\tint kolumna = blockIdx.x * blockDim.x + threadIdx.x;\n",
        "\tint wiersz = blockIdx.y * blockDim.y + threadIdx.y;\n",
        "\n",
        "\tif (wiersz < N && kolumna < N) {\n",
        "\t\tint suma = 0;\n",
        "\t\tfor (int i = 0; i < N; i++) {\n",
        "\t\t\tsuma += A[N * wiersz + i] * B[N * i + kolumna];\n",
        "    }\n",
        "\t\tC[wiersz * N + kolumna] = suma;\n",
        "\t}\n",
        "}\n",
        "\n",
        "void matmulHost(int* A, int* B, int* C, int N)\n",
        "{\n",
        "\n",
        "\tfor (int i = 0; i < N; i++) for (int j = 0; j < N; j++) {\n",
        "\t\t\tint suma = 0;\n",
        "\t\t\tfor (int q = 0; q < N; q++) suma += A[N * i + q] * B[q * N + j];\n",
        "\t\t\tC[N * i + j] = suma;\n",
        "\t\t}\n",
        "}\n",
        "\n",
        "\n",
        "int main(void)\n",
        "{\n",
        "\t\tint N = 1024;\n",
        "\t\tint block_size = 16;\n",
        "\n",
        "\t\tint Iter = 1;\n",
        "\n",
        "\t\tunsigned int rozmiar = N * N;\n",
        "\t\tunsigned int mem_size = sizeof(int) * rozmiar;\n",
        "\t\n",
        "\tfor(int qwerty = 0; qwerty < 5; qwerty++){\n",
        "\t\tint* A = (int*)malloc(mem_size);\n",
        "\t\tint* B = (int*)malloc(mem_size);\n",
        "\t\tint* C = (int*)malloc(mem_size);\n",
        "\t\tint* hCuda_C = (int*)malloc(mem_size);\n",
        "\t\n",
        "\t\tint* wA, * wB, * wC;\n",
        "\t\n",
        "\t\tfor (int i = 0; i < rozmiar; i++) {\n",
        "\t\t\tA[i] = rand() % 501;\n",
        "\t\t\tB[i] = rand() % 501;\n",
        "\t\t}\n",
        "\t\n",
        "\t\tunsigned int czasStart = clock();\n",
        "\n",
        "\t\tfor (int j = 0; j < Iter; j++) \n",
        "\t\t\tmatmulHost(A, B, C, N);\n",
        "\t\t\n",
        "\n",
        "\t\tunsigned int elapsedCzas = clock() - czasStart;\n",
        "\t\tfloat czasCPU = elapsedCzas / 1000;\n",
        "\n",
        "\t\tcout << \"CPU czas dla iter = \"<<qwerty <<\"  = \" << czasCPU/1000 << endl;\n",
        "\t\n",
        "\t\tcheckCudaErrors(cudaMalloc((void**)& wA, mem_size));\n",
        "\t\tcheckCudaErrors(cudaMalloc((void**)& wB, mem_size));\n",
        "\t\tcheckCudaErrors(cudaMalloc((void**)& wC, mem_size));\n",
        "\t\tcheckCudaErrors(cudaMemcpy(wA, A, mem_size,cudaMemcpyHostToDevice));\n",
        "\t\tcheckCudaErrors(cudaMemcpy(wB, B, mem_size,cudaMemcpyHostToDevice));\n",
        "\t\n",
        "\t\tdim3 threadsPerBlock(block_size, block_size);\n",
        "\t\tdim3 blocksPerGrid(N / block_size, N / block_size);\n",
        "\t\t\n",
        "\t\tcudaEvent_t start;\n",
        "\t\tcudaEvent_t stop;\n",
        "\t\tcheckCudaErrors(cudaEventCreate(&start));\n",
        "\t\tcheckCudaErrors(cudaEventCreate(&stop));\n",
        "\n",
        "\t\tcheckCudaErrors(cudaEventRecord(start, 0));\n",
        "\n",
        "\t\tfor (int j = 0; j < Iter; j++) \n",
        "\t\t\tmatmulDevice << <blocksPerGrid, threadsPerBlock >> > (wA, wB, wC, N);\n",
        "\t\t\n",
        "\n",
        "\t\tcheckCudaErrors(cudaEventRecord(stop, 0));\n",
        "\n",
        "\t\tcheckCudaErrors(cudaEventSynchronize(stop));\n",
        "\n",
        "\t\tfloat milisec = 0.0f;\n",
        "\t\tcheckCudaErrors(cudaEventElapsedTime(&milisec, start, stop));\n",
        "\n",
        "\t\tfloat czas = milisec / Iter;\n",
        "\t\t\t   \n",
        "\t\tcout << \"GPU czas dla iter = \"<<qwerty <<\"  = \" << czas/1000 << endl;\n",
        "\n",
        "\t\tcudaDeviceSynchronize();\n",
        "\t\n",
        "\t\tcheckCudaErrors(cudaMemcpy(hCuda_C, wC, mem_size, cudaMemcpyDeviceToHost));\n",
        "\t\tcudaDeviceSynchronize();\n",
        "    cudaFree(wA);\n",
        "    cudaFree(wB);\n",
        "    cudaFree(wC);\n",
        "  }\n",
        "\t\n",
        "\n",
        "    return 0;\n",
        "}"
      ],
      "metadata": {
        "colab": {
          "base_uri": "https://localhost:8080/",
          "height": 35
        },
        "id": "rkxW1YdketBV",
        "outputId": "35bb47ba-01de-46fc-f3fc-10226b342402"
      },
      "execution_count": 4,
      "outputs": [
        {
          "output_type": "execute_result",
          "data": {
            "application/vnd.google.colaboratory.intrinsic+json": {
              "type": "string"
            },
            "text/plain": [
              "'File written in /content/src/Matrix.cu'"
            ]
          },
          "metadata": {},
          "execution_count": 4
        }
      ]
    },
    {
      "cell_type": "code",
      "source": [
        "!nvcc -o /content/src/matrix /content/src/Matrix.cu"
      ],
      "metadata": {
        "id": "Q9tuzDgig0qM"
      },
      "execution_count": 5,
      "outputs": []
    },
    {
      "cell_type": "code",
      "source": [
        "!/content/src/matrix"
      ],
      "metadata": {
        "colab": {
          "base_uri": "https://localhost:8080/"
        },
        "id": "cnzntZ7-g4aZ",
        "outputId": "8b7f55b3-1236-4c2b-9a6d-1acc952643ae"
      },
      "execution_count": 6,
      "outputs": [
        {
          "output_type": "stream",
          "name": "stdout",
          "text": [
            "CPU czas dla iter = 0  = 7.454\n",
            "GPU czas dla iter = 0  = 0.0329805\n",
            "CPU czas dla iter = 1  = 7.217\n",
            "GPU czas dla iter = 1  = 0.0329017\n",
            "CPU czas dla iter = 2  = 7.251\n",
            "GPU czas dla iter = 2  = 0.0329032\n",
            "CPU czas dla iter = 3  = 7.255\n",
            "GPU czas dla iter = 3  = 0.0329911\n",
            "CPU czas dla iter = 4  = 7.184\n",
            "GPU czas dla iter = 4  = 0.0328832\n"
          ]
        }
      ]
    }
  ]
}